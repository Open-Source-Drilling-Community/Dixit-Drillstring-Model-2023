{
 "cells": [
  {
   "cell_type": "code",
   "execution_count": 1,
   "metadata": {},
   "outputs": [
    {
     "name": "stderr",
     "output_type": "stream",
     "text": [
      "d:\\git_projects\\test_env\\Lib\\site-packages\\drillsim\\models\\friction.py:73: RuntimeWarning: invalid value encountered in divide\n",
      "  comp_a = np.where(np.isnan(v / resultant_vel), 0, v / resultant_vel)\n",
      "d:\\git_projects\\test_env\\Lib\\site-packages\\drillsim\\models\\friction.py:74: RuntimeWarning: invalid value encountered in divide\n",
      "  comp_t = np.where(np.isnan(v_tan / resultant_vel), 0, v_tan / resultant_vel)\n",
      "d:\\git_projects\\test_env\\Lib\\site-packages\\drillsim\\models\\friction.py:74: RuntimeWarning: divide by zero encountered in divide\n",
      "  comp_t = np.where(np.isnan(v_tan / resultant_vel), 0, v_tan / resultant_vel)\n",
      "d:\\git_projects\\test_env\\Lib\\site-packages\\drillsim\\models\\friction.py:73: RuntimeWarning: divide by zero encountered in divide\n",
      "  comp_a = np.where(np.isnan(v / resultant_vel), 0, v / resultant_vel)\n"
     ]
    }
   ],
   "source": [
    "from drillsim.driver import main_driver as main_driver\n",
    "\n",
    "# enter output folder path\n",
    "outputFolderPath = r\"D:\\Project\\output\"\n",
    "\n",
    "# enter input excel sheet location\n",
    "input_excel_path = r\"D:/Project/Input/EM_drill_sim_input_sheet.xlsx\"\n",
    "\n",
    "main_driver(input_excel_path, outputFolderPath)"
   ]
  },
  {
   "cell_type": "code",
   "execution_count": 3,
   "metadata": {},
   "outputs": [],
   "source": [
    "import plotly.graph_objects as go\n",
    "import plotly.graph_objects as go\n",
    "\n",
    "import pickle\n",
    "\n",
    "with open(r'D:\\Rajat\\output\\Output.pickle', 'rb') as fp:\n",
    "  p = pickle.load(fp)\n",
    "\n",
    "# con = go.Contour(z=p[STATIC_CHECK_PREV_STORE])\n",
    "# fig = go.Figure(data = con)\n",
    "# fig.show()\n",
    "\n",
    "\n",
    "\n",
    "\n"
   ]
  },
  {
   "cell_type": "code",
   "execution_count": 4,
   "metadata": {},
   "outputs": [
    {
     "data": {
      "text/plain": [
       "dict_keys(['run_time', 'trip_length', 'ccs', 'depth_query', 'hole_dia', 'E', 'G', 'elem_length', 'buoyancy_factor', 'mu_static', 'mu_dynamic', 'v_cs', 'ct_borehole', 'Mass of drill pipe', 'drill_pipe_od', 'drill_pipe_id', 'tool_joint_outer_dia', 'drill pipe total length', 'DRILL PIPE DIA', 'tj dia', 'rop val 1', 'rop val 2', 'a1', 'a2', 'a3', 'a4', 'a5', 'a6', 'rpm_val_1', 'b1', 'b2', 'b3', 'b4', 'b5', 'b6', 'HEAVE_STATE', 'HEAVE_AMP', 'HEAVE_TIME_PERIOD', 'HEAVE_DELAY', 'HEAVE_OMEGA', 'MOTOR_STATE', 'MOTOR_RPG', 'MOTOR_FLOW_RATE', 'WOB_SS', 'ROP_SS', 'RPM_SS', 'DIA_PIPE_EQUIV', 'AXIAL_VEL_MULTIPLIER', 'DOC_SS', 'MU_ROCK', 'K_WOB', 'K_TQ', 'CA_BOREHOLE', 'noe', 'motor_index', 'global_mass_array', 'global_ca_array', 'global_ka_array', 'global_inertia_array', 'global_ct_array', 'global_kt_array', 'global_length_array', 'global_mass_inv_array', 'global_inertia_inv_array', 'global_inertia_inv_ct_array', 'global_mass_inv_ca_array', 'global_mass_matrix', 'global_inertia_matrix', 'global_mass_inv_matrix', 'global_inertia_inv_matrix', 'global_ka_matrix', 'global_kt_matrix', 'global_mass_inv_ca_matrix', 'global_inertia_inv_ct_matrix', 'global_mass_inv_ka_matrix', 'global_inertia_inv_kt_matrix', 'theta_inclination', 'normal_force', 'static_check_prev', 'downhole_weight', 'downhole_torque', 'doc', 'solution_time', 'theta_previous', 'hole_depth_previous', 'friction_force_store', 'friction_torque_store', 'static_prev_check_store', 'time_array', 'solution_numpy_array'])"
      ]
     },
     "execution_count": 4,
     "metadata": {},
     "output_type": "execute_result"
    }
   ],
   "source": [
    "p.keys()"
   ]
  },
  {
   "cell_type": "code",
   "execution_count": null,
   "metadata": {},
   "outputs": [],
   "source": []
  }
 ],
 "metadata": {
  "kernelspec": {
   "display_name": "test_env",
   "language": "python",
   "name": "python3"
  },
  "language_info": {
   "codemirror_mode": {
    "name": "ipython",
    "version": 3
   },
   "file_extension": ".py",
   "mimetype": "text/x-python",
   "name": "python",
   "nbconvert_exporter": "python",
   "pygments_lexer": "ipython3",
   "version": "3.11.0"
  },
  "orig_nbformat": 4,
  "vscode": {
   "interpreter": {
    "hash": "141bbe0cc92c7194b5aaf1c6356bb909ccb7190030e493dd9da06a60bc54b1a3"
   }
  }
 },
 "nbformat": 4,
 "nbformat_minor": 2
}
